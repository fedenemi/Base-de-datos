{
 "cells": [
  {
   "cell_type": "markdown",
   "metadata": {},
   "source": [
    "Obtener los ids, cantidad de hashtags y likes para tweets que tengan 50 o más likes\n",
    "(‘favorite count’) y hayan sido a las 3 de la tarde. Ordenar la salida de forma\n",
    "descendente por cantidad de likes."
   ]
  },
  {
   "cell_type": "code",
   "execution_count": null,
   "metadata": {},
   "outputs": [],
   "source": [
    "tweets.find({\n",
    "\"favorite_count\": {\"$gte\": 50},\n",
    "\"created_at.date\": {\"$regex\": \"T15:\"},\n",
    "},\n",
    "{\"_id\": 1, \"hashtags\": {\"$size\": \"$entities.hashtags\"},\n",
    "\"favorite_count\": 1},\n",
    ").sort({\"favorite_count\": -1}).limit(5)\n",
    "\n",
    "\n",
    "# {'_id': '1143898673539162112', 'favorite_count': 1269, 'hashtags': 1}\n",
    "# {'_id': '1143899877459542017', 'favorite_count': 1006, 'hashtags': 1}\n",
    "# {'_id': '1143909533661782017', 'favorite_count': 328, 'hashtags': 0}\n",
    "# {'_id': '1143904304367120384', 'favorite_count': 299, 'hashtags': 0}\n",
    "# {'_id': '1143901685452025857', 'favorite_count': 239, 'hashtags': 0}\n"
   ]
  },
  {
   "cell_type": "markdown",
   "metadata": {},
   "source": [
    "Para cada hashtag obtener los usuarios que lo utilizaron además del máximo, mínimo y\n",
    "promedio de retweets, sólo teniendo en cuenta aquellos tweets que utilicen más de 3 hashtags\n",
    "(primero se deben filtrar los tweets y luego hallar los valores por cada hashtag).\n",
    "Se debe utilizar el pipeline de agregación."
   ]
  },
  {
   "cell_type": "code",
   "execution_count": null,
   "metadata": {},
   "outputs": [],
   "source": [
    "tweets.aggregate([\n",
    "{\"$addFields\": {\"hashtags\": {\"$size\": \"$entities.hashtags\"}}},\n",
    "{\"$match\": {\"hashtags\": {\"$gt\": 3}}},\n",
    "{\"$unwind\": \"$entities.hashtags\"},\n",
    "{\"$group\": {\n",
    "\"_id\": \"$entities.hashtags.text\",\n",
    "\"users\": {\"$addToSet\": {\"id\": \"$user_id\", \"name\":\n",
    "\"$user.screen_name\"}},\n",
    "\"maxRetweets\": {\"$max\": \"$retweet_count\"},\n",
    "\"avgRetweets\": {\"$avg\": \"$retweet_count\"},\n",
    "\"minRetweets\": {\"$min\": \"$retweet_count\"}\n",
    "}\n",
    "},\n",
    "{\"$limit\": 5},\n",
    "])\n",
    "\n",
    "\n",
    "# Output:\n",
    "# {'_id': 'JuiceWRLD', 'avgRetweets': 31350.0, 'maxRetweets': 31350, 'minRetweets': 31350,\n",
    "# 'users': [{'id': '1136126901418938369', 'name': 'JesicaMontero16'}]}\n",
    "# {'_id': 'MiQueridaPrincesa', 'avgRetweets': 0.0, 'maxRetweets': 0, 'minRetweets': 0,\n",
    "# 'users': [{'id': '895823548199178241', 'name': 'misnatymor22'}]}\n",
    "# {'_id': '갓세븐', 'avgRetweets': 5268.166666666667, 'maxRetweets': 25107, 'minRetweets': 19,\n",
    "# 'users': [{'id': '3432284098', 'name': 'sunrisebeomie'},'id': '510667576', 'name': 'NicoleCancino1'},\n",
    "# 'id': '355907807', 'name': 'YaniYuuki'}]}\n",
    "# {'_id': 'Pitbull', 'avgRetweets': 12.0, 'maxRetweets': 12, 'minRetweets': 12,\n",
    "# 'users': [{'id': '391155284', 'name': 'NoraRpa'}]}\n",
    "# {'_id': 'SP2500', 'avgRetweets': 6.0, 'm"
   ]
  }
 ],
 "metadata": {
  "language_info": {
   "name": "python"
  }
 },
 "nbformat": 4,
 "nbformat_minor": 2
}
