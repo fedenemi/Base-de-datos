{
 "cells": [
  {
   "cell_type": "markdown",
   "metadata": {},
   "source": [
    "Por cada usuario obtener una lista de ids de tweets y el\n",
    "largo de la misma:"
   ]
  },
  {
   "cell_type": "code",
   "execution_count": null,
   "metadata": {},
   "outputs": [],
   "source": [
    "db.collection.aggregate([\n",
    "  {\n",
    "    '$group': {\n",
    "      '_id': '$user',\n",
    "      'lista_de_tweets': {\n",
    "        '$push': '$_id'\n",
    "      },\n",
    "      'contados': {\n",
    "        '$sum': 1\n",
    "      }\n",
    "    }\n",
    "  },\n",
    "  {\n",
    "    '$addFields': {\n",
    "      'largo_lista': {\n",
    "        '$size': '$lista_de_tweets'\n",
    "      }\n",
    "    }\n",
    "  }\n",
    "])\n"
   ]
  },
  {
   "cell_type": "markdown",
   "metadata": {},
   "source": [
    "Hallar para cada intervalo de una hora cuantos tweets\n",
    "realizo cada usuario:\n"
   ]
  },
  {
   "cell_type": "code",
   "execution_count": null,
   "metadata": {},
   "outputs": [],
   "source": [
    "db.collection.aggregate([\n",
    "  \n",
    "  {\n",
    "    '$project': {\n",
    "      'user': 1,\n",
    "      'hora': {\n",
    "        '$hour': '$created_at'\n",
    "      }\n",
    "    }\n",
    "  },\n",
    "  \n",
    "  {\n",
    "    '$group': {\n",
    "      '_id': {\n",
    "        'user_name': '$user.name',\n",
    "        'hora': '$hora'\n",
    "      },\n",
    "      'cantidad': {\n",
    "        '$sum': 1\n",
    "      }\n",
    "    }\n",
    "  },\n",
    "  \n",
    "  {\n",
    "    '$group': {\n",
    "      '_id': '$_id.user_name',\n",
    "      'horas_tweets': {\n",
    "        '$push': {\n",
    "          'hora': '$_id.hora',\n",
    "          'cantidad': '$cantidad'\n",
    "        }\n",
    "      }\n",
    "    }\n",
    "  },\n",
    "  \n",
    "  {\n",
    "    '$group': {\n",
    "      '_id': '$_id',\n",
    "      'lista_de_tweets': {\n",
    "        '$push': '$_id'\n",
    "      },\n",
    "      'contados': {\n",
    "        '$sum': 1\n",
    "      },\n",
    "      'horas_tweets': {\n",
    "        '$first': '$horas_tweets'\n",
    "      }\n",
    "    }\n",
    "  },\n",
    "  \n",
    "  {\n",
    "    '$addFields': {\n",
    "      'largo_lista': {\n",
    "        '$size': '$lista_de_tweets'\n",
    "      }\n",
    "    }\n",
    "  }\n",
    "])\n"
   ]
  }
 ],
 "metadata": {
  "language_info": {
   "name": "python"
  }
 },
 "nbformat": 4,
 "nbformat_minor": 2
}
